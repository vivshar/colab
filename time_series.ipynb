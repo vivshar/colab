{
  "nbformat": 4,
  "nbformat_minor": 0,
  "metadata": {
    "colab": {
      "name": "time series",
      "version": "0.3.2",
      "provenance": [],
      "include_colab_link": true
    },
    "kernelspec": {
      "name": "python3",
      "display_name": "Python 3"
    }
  },
  "cells": [
    {
      "cell_type": "markdown",
      "metadata": {
        "id": "view-in-github",
        "colab_type": "text"
      },
      "source": [
        "<a href=\"https://colab.research.google.com/github/vivshar/colab/blob/master/time_series.ipynb\" target=\"_parent\"><img src=\"https://colab.research.google.com/assets/colab-badge.svg\" alt=\"Open In Colab\"/></a>"
      ]
    },
    {
      "metadata": {
        "id": "H5mePjwhtWYI",
        "colab_type": "code",
        "colab": {}
      },
      "cell_type": "code",
      "source": [
        "import os\n",
        "import keras\n",
        "import numpy as np"
      ],
      "execution_count": 0,
      "outputs": []
    },
    {
      "metadata": {
        "id": "fxIRxcDfociq",
        "colab_type": "code",
        "colab": {}
      },
      "cell_type": "code",
      "source": [
        ""
      ],
      "execution_count": 0,
      "outputs": []
    },
    {
      "metadata": {
        "id": "qQrwHEAlvCAA",
        "colab_type": "code",
        "colab": {}
      },
      "cell_type": "code",
      "source": [
        "input_file = '/content/jena_climate/jena_climate_2009_2016.csv'\n",
        "f = open(input_file)\n",
        "data = f.read()\n",
        "f.close()"
      ],
      "execution_count": 0,
      "outputs": []
    },
    {
      "metadata": {
        "id": "OeYkc6YUvpga",
        "colab_type": "code",
        "colab": {}
      },
      "cell_type": "code",
      "source": [
        "data = data.split('\\n')\n",
        "header = data[0]\n",
        "header = header.split(',')\n",
        "data = data[1:]"
      ],
      "execution_count": 0,
      "outputs": []
    },
    {
      "metadata": {
        "id": "leQOUPN_0gMG",
        "colab_type": "code",
        "colab": {}
      },
      "cell_type": "code",
      "source": [
        "float_data = np.zeros((len(data),len(header)-1))\n",
        "for i,line in enumerate(data):\n",
        "  values = [float(x) for x in line.split(',')[1:]]\n",
        "  float_data[i] = values"
      ],
      "execution_count": 0,
      "outputs": []
    },
    {
      "metadata": {
        "id": "26EH8J-V-lLE",
        "colab_type": "code",
        "colab": {}
      },
      "cell_type": "code",
      "source": [
        "#normalizing\n",
        "mean = float_data[:20000].mean(axis = 0)\n",
        "float_data -= mean\n",
        "std = float_data[:20000].std(axis = 0)\n",
        "float_data /=std"
      ],
      "execution_count": 0,
      "outputs": []
    },
    {
      "metadata": {
        "id": "cLskCAwSMXB5",
        "colab_type": "code",
        "colab": {}
      },
      "cell_type": "code",
      "source": [
        "def generator(data, lookback, delay, min_index, max_index,shuffle=False, batch_size=128, step=6):\n",
        "  i = min_index + lookback\n",
        "  if shuffle == True:\n",
        "    rows = np.random.randint(min_index + lookback,max_index,size = batch_size)\n",
        "  else:\n",
        "    if i+batch_size >= max_index :\n",
        "      i = min_index+lookback\n",
        "    i+=len(rows)\n",
        "    rows = range(i,min(max_index,i+batch_size))\n",
        "  sample = np.zeros((batch_size,lookback//step,data.shape[-1]))\n",
        "  targets = np.zeros((batch_size))\n",
        "  for j,row in enumerate(rows):\n",
        "    indices = range(rows[j]-lookback,rows[j],step)\n",
        "    sample[j] = data[indices]\n",
        "    targets[j] = data[rows[j]+delay][1]\n",
        "  yield sample,targets"
      ],
      "execution_count": 0,
      "outputs": []
    },
    {
      "metadata": {
        "id": "EQoi3BA8oAFn",
        "colab_type": "code",
        "colab": {}
      },
      "cell_type": "code",
      "source": [
        "lookback = 1440\n",
        "step = 6\n",
        "delay = 144\n",
        "batch_size = 128"
      ],
      "execution_count": 0,
      "outputs": []
    },
    {
      "metadata": {
        "id": "fYOdRtrkoe_1",
        "colab_type": "code",
        "colab": {}
      },
      "cell_type": "code",
      "source": [
        "train_gen = generator(float_data,lookback=lookback,delay=delay,min_index=0,max_index=200000,shuffle=True,step=step,batch_size=batch_size)\n",
        "val_gen = generator(float_data,lookback=lookback,delay=delay,min_index=200001,max_index=300000,step=step,batch_size=batch_size)\n",
        "test_gen = generator(float_data,lookback=lookback,delay=delay,min_index=300001,max_index=None,step=step,batch_size=batch_size)"
      ],
      "execution_count": 0,
      "outputs": []
    },
    {
      "metadata": {
        "id": "xQ5Vq5mHpBf1",
        "colab_type": "code",
        "colab": {}
      },
      "cell_type": "code",
      "source": [
        "\n",
        "val_steps = (300000 - 200001 - lookback)\n",
        "test_steps = (len(float_data) - 300001 - lookback)"
      ],
      "execution_count": 0,
      "outputs": []
    }
  ]
}