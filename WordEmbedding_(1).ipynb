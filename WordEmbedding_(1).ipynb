{
  "nbformat": 4,
  "nbformat_minor": 0,
  "metadata": {
    "colab": {
      "name": "WordEmbedding (1).ipynb",
      "version": "0.3.2",
      "provenance": [],
      "collapsed_sections": [],
      "include_colab_link": true
    },
    "kernelspec": {
      "name": "python3",
      "display_name": "Python 3"
    },
    "accelerator": "TPU"
  },
  "cells": [
    {
      "cell_type": "markdown",
      "metadata": {
        "id": "view-in-github",
        "colab_type": "text"
      },
      "source": [
        "<a href=\"https://colab.research.google.com/github/vivshar/colab/blob/master/WordEmbedding_(1).ipynb\" target=\"_parent\"><img src=\"https://colab.research.google.com/assets/colab-badge.svg\" alt=\"Open In Colab\"/></a>"
      ]
    },
    {
      "metadata": {
        "scrolled": true,
        "id": "VYuS3GSsSYSn",
        "colab_type": "code",
        "outputId": "7212cae4-326c-4f10-9694-b9aed2f4192d",
        "colab": {
          "base_uri": "https://localhost:8080/",
          "height": 34
        }
      },
      "cell_type": "code",
      "source": [
        "import keras"
      ],
      "execution_count": 0,
      "outputs": [
        {
          "output_type": "stream",
          "text": [
            "Using TensorFlow backend.\n"
          ],
          "name": "stderr"
        }
      ]
    },
    {
      "metadata": {
        "scrolled": true,
        "id": "oNx-KB2ySYSx",
        "colab_type": "code",
        "colab": {}
      },
      "cell_type": "code",
      "source": [
        "from keras import layers"
      ],
      "execution_count": 0,
      "outputs": []
    },
    {
      "metadata": {
        "id": "sSE7_h7JSYS3",
        "colab_type": "code",
        "colab": {}
      },
      "cell_type": "code",
      "source": [
        "import numpy as np"
      ],
      "execution_count": 0,
      "outputs": []
    },
    {
      "metadata": {
        "scrolled": true,
        "id": "WS4uI8d9SYS7",
        "colab_type": "code",
        "colab": {}
      },
      "cell_type": "code",
      "source": [
        "from keras.layers import Embedding"
      ],
      "execution_count": 0,
      "outputs": []
    },
    {
      "metadata": {
        "id": "5laIbgKiSYTA",
        "colab_type": "code",
        "colab": {}
      },
      "cell_type": "code",
      "source": [
        "from keras.datasets import imdb\n",
        "(x_train,y_train),(x_test,y_test) = imdb.load_data(num_words=10000)"
      ],
      "execution_count": 0,
      "outputs": []
    },
    {
      "metadata": {
        "scrolled": true,
        "id": "ptOUJrIdSYTF",
        "colab_type": "code",
        "colab": {}
      },
      "cell_type": "code",
      "source": [
        "from keras import preprocessing"
      ],
      "execution_count": 0,
      "outputs": []
    },
    {
      "metadata": {
        "id": "40tA9-7mSYTJ",
        "colab_type": "code",
        "colab": {}
      },
      "cell_type": "code",
      "source": [
        "max_len = 100"
      ],
      "execution_count": 0,
      "outputs": []
    },
    {
      "metadata": {
        "scrolled": true,
        "id": "OngFUE79SYTP",
        "colab_type": "code",
        "colab": {}
      },
      "cell_type": "code",
      "source": [
        "\n",
        "x1_train = preprocessing.sequence.pad_sequences(x_train,maxlen=max_len)\n",
        "x1_test = preprocessing.sequence.pad_sequences(x_test,maxlen=max_len)"
      ],
      "execution_count": 0,
      "outputs": []
    },
    {
      "metadata": {
        "id": "wqrFNDQOSYTU",
        "colab_type": "code",
        "colab": {}
      },
      "cell_type": "code",
      "source": [
        "from keras.models import Sequential\n",
        "model = Sequential()"
      ],
      "execution_count": 0,
      "outputs": []
    },
    {
      "metadata": {
        "id": "-BsXhOr-SYTa",
        "colab_type": "code",
        "colab": {}
      },
      "cell_type": "code",
      "source": [
        "embedding_layer = Embedding(input_dim=10000,output_dim=8,input_length=max_len)"
      ],
      "execution_count": 0,
      "outputs": []
    },
    {
      "metadata": {
        "scrolled": true,
        "id": "41-jqS5ySYTh",
        "colab_type": "code",
        "outputId": "82a5ff94-39a6-4671-ddd8-8672b734fb06",
        "colab": {
          "base_uri": "https://localhost:8080/",
          "height": 235
        }
      },
      "cell_type": "code",
      "source": [
        "model.add(embedding_layer)\n",
        "model.add(layers.Flatten())\n",
        "model.add(layers.Dense(1,activation='sigmoid'))\n",
        "model.compile(optimizer='rmsprop', loss='binary_crossentropy', metrics=['acc'])\n",
        "model.summary()"
      ],
      "execution_count": 0,
      "outputs": [
        {
          "output_type": "stream",
          "text": [
            "_________________________________________________________________\n",
            "Layer (type)                 Output Shape              Param #   \n",
            "=================================================================\n",
            "embedding_1 (Embedding)      (None, 100, 8)            80000     \n",
            "_________________________________________________________________\n",
            "flatten_1 (Flatten)          (None, 800)               0         \n",
            "_________________________________________________________________\n",
            "dense_1 (Dense)              (None, 1)                 801       \n",
            "=================================================================\n",
            "Total params: 80,801\n",
            "Trainable params: 80,801\n",
            "Non-trainable params: 0\n",
            "_________________________________________________________________\n"
          ],
          "name": "stdout"
        }
      ]
    },
    {
      "metadata": {
        "id": "hQEWH5jdSYTn",
        "colab_type": "code",
        "colab": {}
      },
      "cell_type": "code",
      "source": [
        "z_trainx = np.empty([x1_train.shape[0]+x1_test.shape[0],max_len])\n",
        "z_trainx[:x1_train.shape[0]] = x1_train\n",
        "z_trainx[x1_train.shape[0]:] = x1_test"
      ],
      "execution_count": 0,
      "outputs": []
    },
    {
      "metadata": {
        "id": "qtRaw4hZSYTq",
        "colab_type": "code",
        "colab": {}
      },
      "cell_type": "code",
      "source": [
        "z_trainy = np.empty([x1_train.shape[0]+x1_test.shape[0],1])\n",
        "y_train=y_train.reshape(y_train.shape[0],1)\n",
        "y_test =y_test.reshape(y_test.shape[0],1)\n",
        "z_trainy[:x1_train.shape[0]] = y_train\n",
        "z_trainy[x1_train.shape[0]:] = y_test"
      ],
      "execution_count": 0,
      "outputs": []
    },
    {
      "metadata": {
        "id": "mwONMZq-SYTv",
        "colab_type": "code",
        "outputId": "4b067507-f10a-4de4-bb9b-1d89a7f20762",
        "colab": {
          "base_uri": "https://localhost:8080/",
          "height": 168
        }
      },
      "cell_type": "code",
      "source": [
        "history = model.fit(z_trainx, z_trainy,\n",
        "epochs=10,\n",
        "batch_size=32,\n",
        "validation_data=(x1_test,y_test))"
      ],
      "execution_count": 0,
      "outputs": [
        {
          "output_type": "stream",
          "text": [
            "Train on 50000 samples, validate on 25000 samples\n",
            "Epoch 1/10\n",
            "50000/50000 [==============================] - 3s 70us/step - loss: 0.4667 - acc: 0.7782 - val_loss: 0.2963 - val_acc: 0.8740\n",
            "Epoch 2/10\n",
            "50000/50000 [==============================] - 3s 63us/step - loss: 0.2921 - acc: 0.8737 - val_loss: 0.2533 - val_acc: 0.8934\n",
            "Epoch 3/10\n",
            "50000/50000 [==============================] - 3s 63us/step - loss: 0.2658 - acc: 0.8886 - val_loss: 0.2353 - val_acc: 0.9021\n",
            "Epoch 4/10\n",
            " 8448/50000 [====>.........................] - ETA: 2s - loss: 0.2459 - acc: 0.8991"
          ],
          "name": "stdout"
        }
      ]
    }
  ]
}