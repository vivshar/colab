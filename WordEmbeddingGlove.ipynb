{
  "nbformat": 4,
  "nbformat_minor": 0,
  "metadata": {
    "colab": {
      "name": "WordEmbeddingGlove.ipynb",
      "version": "0.3.2",
      "provenance": [],
      "collapsed_sections": [],
      "include_colab_link": true
    },
    "kernelspec": {
      "name": "python3",
      "display_name": "Python 3"
    },
    "accelerator": "TPU"
  },
  "cells": [
    {
      "cell_type": "markdown",
      "metadata": {
        "id": "view-in-github",
        "colab_type": "text"
      },
      "source": [
        "<a href=\"https://colab.research.google.com/github/vivshar/colab/blob/master/WordEmbeddingGlove.ipynb\" target=\"_parent\"><img src=\"https://colab.research.google.com/assets/colab-badge.svg\" alt=\"Open In Colab\"/></a>"
      ]
    },
    {
      "metadata": {
        "id": "A6Sy9YRbQ8JN",
        "colab_type": "code",
        "outputId": "00d7945f-d734-43bc-8897-a881e591dc24",
        "colab": {
          "base_uri": "https://localhost:8080/",
          "height": 34
        }
      },
      "cell_type": "code",
      "source": [
        "import keras\n",
        "from keras.preprocessing import sequence"
      ],
      "execution_count": 0,
      "outputs": [
        {
          "output_type": "stream",
          "text": [
            "Using TensorFlow backend.\n"
          ],
          "name": "stderr"
        }
      ]
    },
    {
      "metadata": {
        "id": "lyJzRp_lRT4n",
        "colab_type": "code",
        "colab": {}
      },
      "cell_type": "code",
      "source": [
        "import numpy as np"
      ],
      "execution_count": 0,
      "outputs": []
    },
    {
      "metadata": {
        "id": "IdtnOH7uR3TJ",
        "colab_type": "code",
        "colab": {}
      },
      "cell_type": "code",
      "source": [
        "train_data = []\n",
        "train_label = []"
      ],
      "execution_count": 0,
      "outputs": []
    },
    {
      "metadata": {
        "id": "FJrnN7J1WJmx",
        "colab_type": "code",
        "colab": {}
      },
      "cell_type": "code",
      "source": [
        "test_data =[]\n",
        "test_label = []"
      ],
      "execution_count": 0,
      "outputs": []
    },
    {
      "metadata": {
        "id": "beP9Ms9bTyjd",
        "colab_type": "code",
        "colab": {}
      },
      "cell_type": "code",
      "source": [
        "import os"
      ],
      "execution_count": 0,
      "outputs": []
    },
    {
      "metadata": {
        "id": "7EMmTFF2UIos",
        "colab_type": "code",
        "colab": {}
      },
      "cell_type": "code",
      "source": [
        "imdb_dir = '/content/aclImdb'\n",
        "train_dir = os.path.join(imdb_dir,'train')\n",
        "test_dir = os.path.join(imdb_dir,'test')"
      ],
      "execution_count": 0,
      "outputs": []
    },
    {
      "metadata": {
        "id": "7VKIV4YuVbdv",
        "colab_type": "code",
        "colab": {}
      },
      "cell_type": "code",
      "source": [
        "#train data\n",
        "for label_name in ['neg','pos']:\n",
        "  dir_name = os.path.join(train_dir,label_name)\n",
        "  for file_name in os.listdir(dir_name):\n",
        "    if file_name[-4:] == '.txt':\n",
        "      f = open(os.path.join(dir_name,file_name))\n",
        "      train_data.append(f.read())\n",
        "      f.close()\n",
        "      if label_name == 'neg':\n",
        "        train_label.append(0)\n",
        "      else:\n",
        "        train_label.append(1)\n"
      ],
      "execution_count": 0,
      "outputs": []
    },
    {
      "metadata": {
        "id": "VZxqkQZ8nUGk",
        "colab_type": "code",
        "colab": {}
      },
      "cell_type": "code",
      "source": [
        "from keras.preprocessing.text import Tokenizer\n",
        "total_max_words = 10000\n",
        "\n",
        "tokenizer = Tokenizer(num_words = total_max_words)"
      ],
      "execution_count": 0,
      "outputs": []
    },
    {
      "metadata": {
        "id": "eC0ab810obIV",
        "colab_type": "code",
        "colab": {}
      },
      "cell_type": "code",
      "source": [
        "tokenizer.fit_on_texts(train_data)\n",
        "word_index = tokenizer.word_index\n",
        "train_seq = tokenizer.texts_to_sequences(train_data)"
      ],
      "execution_count": 0,
      "outputs": []
    },
    {
      "metadata": {
        "id": "hN2X92uFowHS",
        "colab_type": "code",
        "colab": {}
      },
      "cell_type": "code",
      "source": [
        "max_words = 100\n",
        "train_seq = sequence.pad_sequences(train_seq,maxlen=max_words)\n",
        "train_label = np.asarray(train_label)\n",
        "indices = np.arange(train_seq.shape[0])\n",
        "np.random.shuffle(indices)\n",
        "train_seq = train_seq[indices]\n",
        "train_label = train_label[indices]"
      ],
      "execution_count": 0,
      "outputs": []
    },
    {
      "metadata": {
        "id": "bL3bUb6DsjPo",
        "colab_type": "code",
        "colab": {}
      },
      "cell_type": "code",
      "source": [
        "training_samples = 200\n",
        "train_sample = train_seq[:training_samples]\n",
        "val_sample = train_seq[training_samples:]\n",
        "train_sample_label = train_label[:training_samples]\n",
        "val_sample_label = train_label[training_samples:]"
      ],
      "execution_count": 0,
      "outputs": []
    },
    {
      "metadata": {
        "id": "4CuET_ZBR0-c",
        "colab_type": "code",
        "colab": {}
      },
      "cell_type": "code",
      "source": [
        "embedding_index = {}\n",
        "glove_dir = '/content/GloVe'\n",
        "glove_output_dim = 300\n",
        "f = open(os.path.join(glove_dir,'glove.6B.300d.txt'))\n",
        "for line in f:\n",
        "  values = line.split()\n",
        "  word = values[0]\n",
        "  embedding_index[word] = np.asarray(values[1:], dtype='float32')\n",
        "f.close()"
      ],
      "execution_count": 0,
      "outputs": []
    },
    {
      "metadata": {
        "id": "eCGt9pFBR_kV",
        "colab_type": "code",
        "colab": {}
      },
      "cell_type": "code",
      "source": [
        "embedding_matrix = np.zeros((total_max_words,glove_output_dim))\n",
        "for word,index in word_index.items():\n",
        "  if index < total_max_words:\n",
        "    coeff = embedding_index.get(word)\n",
        "    if coeff is not None:\n",
        "      embedding_matrix[index] = coeff"
      ],
      "execution_count": 0,
      "outputs": []
    },
    {
      "metadata": {
        "id": "jtnhXhHRqasl",
        "colab_type": "code",
        "colab": {}
      },
      "cell_type": "code",
      "source": [
        "from keras.models import Sequential\n",
        "from keras.layers import Dense,Flatten,Embedding\n",
        "model = Sequential()"
      ],
      "execution_count": 0,
      "outputs": []
    },
    {
      "metadata": {
        "id": "jwN4balt0Biq",
        "colab_type": "code",
        "colab": {}
      },
      "cell_type": "code",
      "source": [
        "model.add(Embedding(total_max_words,glove_output_dim,input_length = max_words))\n",
        "model.add(Flatten())\n",
        "model.add(Dense(32,activation= 'relu'))\n",
        "model.add(Dense(1,activation='sigmoid'))"
      ],
      "execution_count": 0,
      "outputs": []
    },
    {
      "metadata": {
        "id": "w7ThnbtF5M-Z",
        "colab_type": "code",
        "outputId": "3ff1d435-c623-433b-9914-5b7c623b4c5c",
        "colab": {
          "base_uri": "https://localhost:8080/",
          "height": 269
        }
      },
      "cell_type": "code",
      "source": [
        "model.layers[0].set_weights([embedding_matrix])\n",
        "model.layers[0].trainable = False\n",
        "model.compile(optimizer='rmsprop',loss='binary_crossentropy',metrics=['acc'])\n",
        "model.summary()"
      ],
      "execution_count": 0,
      "outputs": [
        {
          "output_type": "stream",
          "text": [
            "_________________________________________________________________\n",
            "Layer (type)                 Output Shape              Param #   \n",
            "=================================================================\n",
            "embedding_1 (Embedding)      (None, 100, 300)          3000000   \n",
            "_________________________________________________________________\n",
            "flatten_1 (Flatten)          (None, 30000)             0         \n",
            "_________________________________________________________________\n",
            "dense_1 (Dense)              (None, 32)                960032    \n",
            "_________________________________________________________________\n",
            "dense_2 (Dense)              (None, 1)                 33        \n",
            "=================================================================\n",
            "Total params: 3,960,065\n",
            "Trainable params: 960,065\n",
            "Non-trainable params: 3,000,000\n",
            "_________________________________________________________________\n"
          ],
          "name": "stdout"
        }
      ]
    },
    {
      "metadata": {
        "id": "T5dCznQU5I6y",
        "colab_type": "code",
        "outputId": "8c255185-a551-42ed-c2a8-5474b68bff65",
        "colab": {
          "base_uri": "https://localhost:8080/",
          "height": 386
        }
      },
      "cell_type": "code",
      "source": [
        "model.fit(train_sample,train_sample_label,batch_size = 64, epochs = 10,validation_data = (val_sample,val_sample_label))"
      ],
      "execution_count": 0,
      "outputs": [
        {
          "output_type": "stream",
          "text": [
            "Train on 200 samples, validate on 24800 samples\n",
            "Epoch 1/10\n",
            "200/200 [==============================] - 3s 15ms/step - loss: 3.6330 - acc: 0.4950 - val_loss: 0.8473 - val_acc: 0.5006\n",
            "Epoch 2/10\n",
            "200/200 [==============================] - 3s 13ms/step - loss: 0.4420 - acc: 0.7200 - val_loss: 0.7173 - val_acc: 0.5639\n",
            "Epoch 3/10\n",
            "200/200 [==============================] - 3s 13ms/step - loss: 1.0006 - acc: 0.6550 - val_loss: 0.8628 - val_acc: 0.5065\n",
            "Epoch 4/10\n",
            "200/200 [==============================] - 3s 13ms/step - loss: 0.1531 - acc: 0.9600 - val_loss: 0.8194 - val_acc: 0.5466\n",
            "Epoch 5/10\n",
            "200/200 [==============================] - 3s 13ms/step - loss: 0.0572 - acc: 0.9950 - val_loss: 0.8789 - val_acc: 0.5419\n",
            "Epoch 6/10\n",
            "200/200 [==============================] - 3s 13ms/step - loss: 0.0294 - acc: 1.0000 - val_loss: 0.7998 - val_acc: 0.5648\n",
            "Epoch 7/10\n",
            "200/200 [==============================] - 3s 13ms/step - loss: 0.0176 - acc: 1.0000 - val_loss: 0.8454 - val_acc: 0.5606\n",
            "Epoch 8/10\n",
            "200/200 [==============================] - 3s 13ms/step - loss: 0.0118 - acc: 1.0000 - val_loss: 0.7618 - val_acc: 0.5834\n",
            "Epoch 9/10\n",
            "200/200 [==============================] - 3s 13ms/step - loss: 0.0086 - acc: 1.0000 - val_loss: 0.8406 - val_acc: 0.5675\n",
            "Epoch 10/10\n",
            "200/200 [==============================] - 3s 13ms/step - loss: 0.0053 - acc: 1.0000 - val_loss: 0.8846 - val_acc: 0.5626\n"
          ],
          "name": "stdout"
        },
        {
          "output_type": "execute_result",
          "data": {
            "text/plain": [
              "<keras.callbacks.History at 0x7f37fcb9ae48>"
            ]
          },
          "metadata": {
            "tags": []
          },
          "execution_count": 17
        }
      ]
    }
  ]
}